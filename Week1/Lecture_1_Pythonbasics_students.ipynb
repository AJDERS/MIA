{
  "nbformat": 4,
  "nbformat_minor": 0,
  "metadata": {
    "colab": {
      "name": "Lecture_1_Pythonbasics_students.ipynb",
      "version": "0.3.2",
      "provenance": [],
      "collapsed_sections": []
    },
    "kernelspec": {
      "name": "python3",
      "display_name": "Python 3"
    }
  },
  "cells": [
    {
      "cell_type": "markdown",
      "metadata": {
        "id": "HKlcqHdg_nSJ",
        "colab_type": "text"
      },
      "source": [
        "# Exercise template for Python basics"
      ]
    },
    {
      "cell_type": "markdown",
      "metadata": {
        "id": "qvBFhU2c_nSM",
        "colab_type": "text"
      },
      "source": [
        "## Variables, data types, ..."
      ]
    },
    {
      "cell_type": "markdown",
      "metadata": {
        "id": "OvVb3RRJ_nSN",
        "colab_type": "text"
      },
      "source": [
        "Basic printing"
      ]
    },
    {
      "cell_type": "code",
      "metadata": {
        "id": "UQ8YJeKD_nSP",
        "colab_type": "code",
        "colab": {}
      },
      "source": [
        "print('Hello world')"
      ],
      "execution_count": 0,
      "outputs": []
    },
    {
      "cell_type": "markdown",
      "metadata": {
        "id": "secLnFn8_nSX",
        "colab_type": "text"
      },
      "source": [
        "## Inspecting objects"
      ]
    },
    {
      "cell_type": "code",
      "metadata": {
        "id": "iNA-hcPm_nSY",
        "colab_type": "code",
        "colab": {}
      },
      "source": [
        "a = 5\n",
        "type(a)"
      ],
      "execution_count": 2,
      "outputs": [
        {
          "output_type": "execute_result",
          "data": {
            "text/plain": "int"
          },
          "metadata": {},
          "execution_count": 2
        }
      ]
    },
    {
      "cell_type": "code",
      "metadata": {
        "id": "1ykH4Vb6_nSd",
        "colab_type": "code",
        "colab": {}
      },
      "source": [
        "dir(a)"
      ],
      "execution_count": 3,
      "outputs": [
        {
          "output_type": "execute_result",
          "data": {
            "text/plain": "['__abs__',\n '__add__',\n '__and__',\n '__bool__',\n '__ceil__',\n '__class__',\n '__delattr__',\n '__dir__',\n '__divmod__',\n '__doc__',\n '__eq__',\n '__float__',\n '__floor__',\n '__floordiv__',\n '__format__',\n '__ge__',\n '__getattribute__',\n '__getnewargs__',\n '__gt__',\n '__hash__',\n '__index__',\n '__init__',\n '__init_subclass__',\n '__int__',\n '__invert__',\n '__le__',\n '__lshift__',\n '__lt__',\n '__mod__',\n '__mul__',\n '__ne__',\n '__neg__',\n '__new__',\n '__or__',\n '__pos__',\n '__pow__',\n '__radd__',\n '__rand__',\n '__rdivmod__',\n '__reduce__',\n '__reduce_ex__',\n '__repr__',\n '__rfloordiv__',\n '__rlshift__',\n '__rmod__',\n '__rmul__',\n '__ror__',\n '__round__',\n '__rpow__',\n '__rrshift__',\n '__rshift__',\n '__rsub__',\n '__rtruediv__',\n '__rxor__',\n '__setattr__',\n '__sizeof__',\n '__str__',\n '__sub__',\n '__subclasshook__',\n '__truediv__',\n '__trunc__',\n '__xor__',\n 'bit_length',\n 'conjugate',\n 'denominator',\n 'from_bytes',\n 'imag',\n 'numerator',\n 'real',\n 'to_bytes']"
          },
          "metadata": {},
          "execution_count": 3
        }
      ]
    },
    {
      "cell_type": "code",
      "metadata": {
        "id": "RrOnX5LH_nSm",
        "colab_type": "code",
        "colab": {},
        "tags": []
      },
      "source": [
        "help(a)"
      ],
      "execution_count": 4,
      "outputs": [
        {
          "output_type": "stream",
          "name": "stdout",
          "text": "Help on int object:\n\nclass int(object)\n |  int([x]) -> integer\n |  int(x, base=10) -> integer\n |  \n |  Convert a number or string to an integer, or return 0 if no arguments\n |  are given.  If x is a number, return x.__int__().  For floating point\n |  numbers, this truncates towards zero.\n |  \n |  If x is not a number or if base is given, then x must be a string,\n |  bytes, or bytearray instance representing an integer literal in the\n |  given base.  The literal can be preceded by '+' or '-' and be surrounded\n |  by whitespace.  The base defaults to 10.  Valid bases are 0 and 2-36.\n |  Base 0 means to interpret the base from the string as an integer literal.\n |  >>> int('0b100', base=0)\n |  4\n |  \n |  Methods defined here:\n |  \n |  __abs__(self, /)\n |      abs(self)\n |  \n |  __add__(self, value, /)\n |      Return self+value.\n |  \n |  __and__(self, value, /)\n |      Return self&value.\n |  \n |  __bool__(self, /)\n |      self != 0\n |  \n |  __ceil__(...)\n |      Ceiling of an Integral returns itself.\n |  \n |  __divmod__(self, value, /)\n |      Return divmod(self, value).\n |  \n |  __eq__(self, value, /)\n |      Return self==value.\n |  \n |  __float__(self, /)\n |      float(self)\n |  \n |  __floor__(...)\n |      Flooring an Integral returns itself.\n |  \n |  __floordiv__(self, value, /)\n |      Return self//value.\n |  \n |  __format__(self, format_spec, /)\n |      Default object formatter.\n |  \n |  __ge__(self, value, /)\n |      Return self>=value.\n |  \n |  __getattribute__(self, name, /)\n |      Return getattr(self, name).\n |  \n |  __getnewargs__(self, /)\n |  \n |  __gt__(self, value, /)\n |      Return self>value.\n |  \n |  __hash__(self, /)\n |      Return hash(self).\n |  \n |  __index__(self, /)\n |      Return self converted to an integer, if self is suitable for use as an index into a list.\n |  \n |  __int__(self, /)\n |      int(self)\n |  \n |  __invert__(self, /)\n |      ~self\n |  \n |  __le__(self, value, /)\n |      Return self<=value.\n |  \n |  __lshift__(self, value, /)\n |      Return self<<value.\n |  \n |  __lt__(self, value, /)\n |      Return self<value.\n |  \n |  __mod__(self, value, /)\n |      Return self%value.\n |  \n |  __mul__(self, value, /)\n |      Return self*value.\n |  \n |  __ne__(self, value, /)\n |      Return self!=value.\n |  \n |  __neg__(self, /)\n |      -self\n |  \n |  __or__(self, value, /)\n |      Return self|value.\n |  \n |  __pos__(self, /)\n |      +self\n |  \n |  __pow__(self, value, mod=None, /)\n |      Return pow(self, value, mod).\n |  \n |  __radd__(self, value, /)\n |      Return value+self.\n |  \n |  __rand__(self, value, /)\n |      Return value&self.\n |  \n |  __rdivmod__(self, value, /)\n |      Return divmod(value, self).\n |  \n |  __repr__(self, /)\n |      Return repr(self).\n |  \n |  __rfloordiv__(self, value, /)\n |      Return value//self.\n |  \n |  __rlshift__(self, value, /)\n |      Return value<<self.\n |  \n |  __rmod__(self, value, /)\n |      Return value%self.\n |  \n |  __rmul__(self, value, /)\n |      Return value*self.\n |  \n |  __ror__(self, value, /)\n |      Return value|self.\n |  \n |  __round__(...)\n |      Rounding an Integral returns itself.\n |      Rounding with an ndigits argument also returns an integer.\n |  \n |  __rpow__(self, value, mod=None, /)\n |      Return pow(value, self, mod).\n |  \n |  __rrshift__(self, value, /)\n |      Return value>>self.\n |  \n |  __rshift__(self, value, /)\n |      Return self>>value.\n |  \n |  __rsub__(self, value, /)\n |      Return value-self.\n |  \n |  __rtruediv__(self, value, /)\n |      Return value/self.\n |  \n |  __rxor__(self, value, /)\n |      Return value^self.\n |  \n |  __sizeof__(self, /)\n |      Returns size in memory, in bytes.\n |  \n |  __str__(self, /)\n |      Return str(self).\n |  \n |  __sub__(self, value, /)\n |      Return self-value.\n |  \n |  __truediv__(self, value, /)\n |      Return self/value.\n |  \n |  __trunc__(...)\n |      Truncating an Integral returns itself.\n |  \n |  __xor__(self, value, /)\n |      Return self^value.\n |  \n |  bit_length(self, /)\n |      Number of bits necessary to represent self in binary.\n |      \n |      >>> bin(37)\n |      '0b100101'\n |      >>> (37).bit_length()\n |      6\n |  \n |  conjugate(...)\n |      Returns self, the complex conjugate of any int.\n |  \n |  to_bytes(self, /, length, byteorder, *, signed=False)\n |      Return an array of bytes representing an integer.\n |      \n |      length\n |        Length of bytes object to use.  An OverflowError is raised if the\n |        integer is not representable with the given number of bytes.\n |      byteorder\n |        The byte order used to represent the integer.  If byteorder is 'big',\n |        the most significant byte is at the beginning of the byte array.  If\n |        byteorder is 'little', the most significant byte is at the end of the\n |        byte array.  To request the native byte order of the host system, use\n |        `sys.byteorder' as the byte order value.\n |      signed\n |        Determines whether two's complement is used to represent the integer.\n |        If signed is False and a negative integer is given, an OverflowError\n |        is raised.\n |  \n |  ----------------------------------------------------------------------\n |  Class methods defined here:\n |  \n |  from_bytes(bytes, byteorder, *, signed=False) from builtins.type\n |      Return the integer represented by the given array of bytes.\n |      \n |      bytes\n |        Holds the array of bytes to convert.  The argument must either\n |        support the buffer protocol or be an iterable object producing bytes.\n |        Bytes and bytearray are examples of built-in objects that support the\n |        buffer protocol.\n |      byteorder\n |        The byte order used to represent the integer.  If byteorder is 'big',\n |        the most significant byte is at the beginning of the byte array.  If\n |        byteorder is 'little', the most significant byte is at the end of the\n |        byte array.  To request the native byte order of the host system, use\n |        `sys.byteorder' as the byte order value.\n |      signed\n |        Indicates whether two's complement is used to represent the integer.\n |  \n |  ----------------------------------------------------------------------\n |  Static methods defined here:\n |  \n |  __new__(*args, **kwargs) from builtins.type\n |      Create and return a new object.  See help(type) for accurate signature.\n |  \n |  ----------------------------------------------------------------------\n |  Data descriptors defined here:\n |  \n |  denominator\n |      the denominator of a rational number in lowest terms\n |  \n |  imag\n |      the imaginary part of a complex number\n |  \n |  numerator\n |      the numerator of a rational number in lowest terms\n |  \n |  real\n |      the real part of a complex number\n\n"
        }
      ]
    },
    {
      "cell_type": "code",
      "metadata": {
        "id": "jilJTUx3_nSq",
        "colab_type": "code",
        "colab": {}
      },
      "source": [
        "# use tab completion\n",
        "a"
      ],
      "execution_count": 8,
      "outputs": [
        {
          "output_type": "execute_result",
          "data": {
            "text/plain": "5"
          },
          "metadata": {},
          "execution_count": 8
        }
      ]
    },
    {
      "cell_type": "markdown",
      "metadata": {
        "id": "JWBGcjGd_nSu",
        "colab_type": "text"
      },
      "source": [
        "## Print et al"
      ]
    },
    {
      "cell_type": "code",
      "metadata": {
        "id": "Sbl4nlCB_nSw",
        "colab_type": "code",
        "colab": {},
        "tags": []
      },
      "source": [
        "a = 4\n",
        "b = 5\n",
        "print(a)\n",
        "print(a,b)\n",
        "print('A %d plus %d' % (a,b))\n",
        "print(f'A {a} plus {b}')\n",
        "print('A {} plus {}'.format(4,5))"
      ],
      "execution_count": 9,
      "outputs": [
        {
          "output_type": "stream",
          "name": "stdout",
          "text": "4\n4 5\nA 4 plus 5\nA 4 plus 5\nA 4 plus 5\n"
        }
      ]
    },
    {
      "cell_type": "code",
      "metadata": {
        "id": "CeYji5wr_nS0",
        "colab_type": "code",
        "colab": {},
        "tags": []
      },
      "source": [
        "li = [1.23, 3.456, 5.67]\n",
        "print('%.1f %.1f ' % (12.3445, 34))\n",
        "print('%.1f ' % li)\n",
        "\n"
      ],
      "execution_count": 10,
      "outputs": [
        {
          "output_type": "stream",
          "name": "stdout",
          "text": "12.3 34.0 \n"
        },
        {
          "output_type": "error",
          "ename": "TypeError",
          "evalue": "must be real number, not list",
          "traceback": [
            "\u001b[1;31m---------------------------------------------------------------------------\u001b[0m",
            "\u001b[1;31mTypeError\u001b[0m                                 Traceback (most recent call last)",
            "\u001b[1;32m<ipython-input-10-d3fd5150eb39>\u001b[0m in \u001b[0;36m<module>\u001b[1;34m\u001b[0m\n\u001b[0;32m      1\u001b[0m \u001b[0mli\u001b[0m \u001b[1;33m=\u001b[0m \u001b[1;33m[\u001b[0m\u001b[1;36m1.23\u001b[0m\u001b[1;33m,\u001b[0m \u001b[1;36m3.456\u001b[0m\u001b[1;33m,\u001b[0m \u001b[1;36m5.67\u001b[0m\u001b[1;33m]\u001b[0m\u001b[1;33m\u001b[0m\u001b[1;33m\u001b[0m\u001b[0m\n\u001b[0;32m      2\u001b[0m \u001b[0mprint\u001b[0m\u001b[1;33m(\u001b[0m\u001b[1;34m'%.1f %.1f '\u001b[0m \u001b[1;33m%\u001b[0m \u001b[1;33m(\u001b[0m\u001b[1;36m12.3445\u001b[0m\u001b[1;33m,\u001b[0m \u001b[1;36m34\u001b[0m\u001b[1;33m)\u001b[0m\u001b[1;33m)\u001b[0m\u001b[1;33m\u001b[0m\u001b[1;33m\u001b[0m\u001b[0m\n\u001b[1;32m----> 3\u001b[1;33m \u001b[0mprint\u001b[0m\u001b[1;33m(\u001b[0m\u001b[1;34m'%.1f '\u001b[0m \u001b[1;33m%\u001b[0m \u001b[0mli\u001b[0m\u001b[1;33m)\u001b[0m\u001b[1;33m\u001b[0m\u001b[1;33m\u001b[0m\u001b[0m\n\u001b[0m\u001b[0;32m      4\u001b[0m \u001b[1;33m\u001b[0m\u001b[0m\n",
            "\u001b[1;31mTypeError\u001b[0m: must be real number, not list"
          ]
        }
      ]
    },
    {
      "cell_type": "markdown",
      "metadata": {
        "id": "DZEmbLlT_nS4",
        "colab_type": "text"
      },
      "source": [
        "What happened here? \n",
        "\n",
        "---\n",
        "\n",
        "\n",
        "Basically, we need to give the number explicitly and cannot print a list like this, we have to be a bit smarter about it:"
      ]
    },
    {
      "cell_type": "code",
      "metadata": {
        "id": "qieqn48F_nS-",
        "colab_type": "code",
        "colab": {},
        "tags": []
      },
      "source": [
        "li = [1.23, 3.456, 5.67]\n",
        "\n",
        "# printing the list using * operator separated  \n",
        "# by space  \n",
        "print(*li) \n",
        "  \n",
        "# printing the list using * and sep operator \n",
        "print(\"printing lists separated by commas\") \n",
        "  \n",
        "print(*li, sep = \", \")  \n",
        "  \n",
        "# print in new line \n",
        "print(\"printing lists in new line\") \n",
        "  \n",
        "print(*li, sep = \"\\n\") "
      ],
      "execution_count": 11,
      "outputs": [
        {
          "output_type": "stream",
          "name": "stdout",
          "text": "1.23 3.456 5.67\nprinting lists separated by commas\n1.23, 3.456, 5.67\nprinting lists in new line\n1.23\n3.456\n5.67\n"
        }
      ]
    },
    {
      "cell_type": "markdown",
      "metadata": {
        "id": "ODOveBo-_nTE",
        "colab_type": "text"
      },
      "source": [
        "## Simple types"
      ]
    },
    {
      "cell_type": "code",
      "metadata": {
        "id": "-f9LXl0h_nTF",
        "colab_type": "code",
        "colab": {},
        "tags": []
      },
      "source": [
        "a = 3\n",
        "b = 3+0.0\n",
        "c = False\n",
        "d = a==b\n",
        "print(a,type(a))\n",
        "print(b,type(b))\n",
        "print(c,type(c))\n",
        "print(d,type(d))"
      ],
      "execution_count": 12,
      "outputs": [
        {
          "output_type": "stream",
          "name": "stdout",
          "text": "3 <class 'int'>\n3.0 <class 'float'>\nFalse <class 'bool'>\nTrue <class 'bool'>\n"
        }
      ]
    },
    {
      "cell_type": "markdown",
      "metadata": {
        "id": "7HzzMLZr_nTO",
        "colab_type": "text"
      },
      "source": [
        "## Lists"
      ]
    },
    {
      "cell_type": "code",
      "metadata": {
        "id": "ykpRRccP_nTP",
        "colab_type": "code",
        "colab": {},
        "tags": []
      },
      "source": [
        "a = []\n",
        "b = [1, 2, 4]\n",
        "c = [5, \"Hello\", \"World\"]\n",
        "d = a==[]\n",
        "print(a,type(a),len(a))\n",
        "print(b,type(b),len(b))\n",
        "print(c,type(c),len(c))\n",
        "print(d,type(d))\n",
        "len(d)"
      ],
      "execution_count": 13,
      "outputs": [
        {
          "output_type": "stream",
          "name": "stdout",
          "text": "[] <class 'list'> 0\n[1, 2, 4] <class 'list'> 3\n[5, 'Hello', 'World'] <class 'list'> 3\nTrue <class 'bool'>\n"
        },
        {
          "output_type": "error",
          "ename": "TypeError",
          "evalue": "object of type 'bool' has no len()",
          "traceback": [
            "\u001b[1;31m---------------------------------------------------------------------------\u001b[0m",
            "\u001b[1;31mTypeError\u001b[0m                                 Traceback (most recent call last)",
            "\u001b[1;32m<ipython-input-13-e5d7ea647f0f>\u001b[0m in \u001b[0;36m<module>\u001b[1;34m\u001b[0m\n\u001b[0;32m      7\u001b[0m \u001b[0mprint\u001b[0m\u001b[1;33m(\u001b[0m\u001b[0mc\u001b[0m\u001b[1;33m,\u001b[0m\u001b[0mtype\u001b[0m\u001b[1;33m(\u001b[0m\u001b[0mc\u001b[0m\u001b[1;33m)\u001b[0m\u001b[1;33m,\u001b[0m\u001b[0mlen\u001b[0m\u001b[1;33m(\u001b[0m\u001b[0mc\u001b[0m\u001b[1;33m)\u001b[0m\u001b[1;33m)\u001b[0m\u001b[1;33m\u001b[0m\u001b[1;33m\u001b[0m\u001b[0m\n\u001b[0;32m      8\u001b[0m \u001b[0mprint\u001b[0m\u001b[1;33m(\u001b[0m\u001b[0md\u001b[0m\u001b[1;33m,\u001b[0m\u001b[0mtype\u001b[0m\u001b[1;33m(\u001b[0m\u001b[0md\u001b[0m\u001b[1;33m)\u001b[0m\u001b[1;33m)\u001b[0m\u001b[1;33m\u001b[0m\u001b[1;33m\u001b[0m\u001b[0m\n\u001b[1;32m----> 9\u001b[1;33m \u001b[0mlen\u001b[0m\u001b[1;33m(\u001b[0m\u001b[0md\u001b[0m\u001b[1;33m)\u001b[0m\u001b[1;33m\u001b[0m\u001b[1;33m\u001b[0m\u001b[0m\n\u001b[0m",
            "\u001b[1;31mTypeError\u001b[0m: object of type 'bool' has no len()"
          ]
        }
      ]
    },
    {
      "cell_type": "markdown",
      "metadata": {
        "id": "ENomBrF7_nTT",
        "colab_type": "text"
      },
      "source": [
        "What happened here?\n",
        "Look at the error! object of type 'bool' has no len()\n",
        "This means bool objects don't have a __len__ attribute.\n",
        "Let's check this by \"tabbing\" our variable:\n"
      ]
    },
    {
      "cell_type": "code",
      "metadata": {
        "id": "APEV4xZL_nTV",
        "colab_type": "code",
        "colab": {}
      },
      "source": [
        "d.__bool__\n",
        "b.__len__"
      ],
      "execution_count": 18,
      "outputs": [
        {
          "output_type": "execute_result",
          "data": {
            "text/plain": "<method-wrapper '__len__' of list object at 0x000001D9C2402388>"
          },
          "metadata": {},
          "execution_count": 18
        }
      ]
    },
    {
      "cell_type": "markdown",
      "metadata": {
        "id": "N7qEmgzx_nTZ",
        "colab_type": "text"
      },
      "source": [
        "We could also check the help for the length function:"
      ]
    },
    {
      "cell_type": "code",
      "metadata": {
        "id": "wofAXMgm_nTa",
        "colab_type": "code",
        "colab": {},
        "tags": []
      },
      "source": [
        "help(len)"
      ],
      "execution_count": 19,
      "outputs": [
        {
          "output_type": "stream",
          "name": "stdout",
          "text": "Help on built-in function len in module builtins:\n\nlen(obj, /)\n    Return the number of items in a container.\n\n"
        }
      ]
    },
    {
      "cell_type": "markdown",
      "metadata": {
        "id": "BK_OXKm4_nTe",
        "colab_type": "text"
      },
      "source": [
        "## Variable Assignment - Understanding Reference Semantics "
      ]
    },
    {
      "cell_type": "code",
      "metadata": {
        "id": "774k_3Ux_nTf",
        "colab_type": "code",
        "colab": {},
        "tags": []
      },
      "source": [
        "4\n",
        "a=4\n",
        "print(a)"
      ],
      "execution_count": 20,
      "outputs": [
        {
          "output_type": "stream",
          "name": "stdout",
          "text": "4\n"
        }
      ]
    },
    {
      "cell_type": "code",
      "metadata": {
        "id": "4DMOpvMw_nTk",
        "colab_type": "code",
        "colab": {},
        "tags": []
      },
      "source": [
        "a = [1,2,3]\n",
        "b = a\n",
        "a.append(4)\n",
        "print(a)\n",
        "print(b)"
      ],
      "execution_count": 21,
      "outputs": [
        {
          "output_type": "stream",
          "name": "stdout",
          "text": "[1, 2, 3, 4]\n[1, 2, 3, 4]\n"
        }
      ]
    },
    {
      "cell_type": "code",
      "metadata": {
        "id": "rxxDu3Wh_nTr",
        "colab_type": "code",
        "colab": {},
        "tags": []
      },
      "source": [
        "c = a.copy()\n",
        "a.append(5)\n",
        "print(a)\n",
        "print(c)\n",
        "a.insert(2,6)\n",
        "print(a)"
      ],
      "execution_count": 22,
      "outputs": [
        {
          "output_type": "stream",
          "name": "stdout",
          "text": "[1, 2, 3, 4, 5]\n[1, 2, 3, 4]\n[1, 2, 6, 3, 4, 5]\n"
        }
      ]
    },
    {
      "cell_type": "code",
      "metadata": {
        "id": "rZJGrcMB_nTv",
        "colab_type": "code",
        "colab": {}
      },
      "source": [
        "help(a.insert)"
      ],
      "execution_count": 0,
      "outputs": []
    },
    {
      "cell_type": "markdown",
      "metadata": {
        "id": "CgLb5jdy_nTz",
        "colab_type": "text"
      },
      "source": [
        "## List vs String - Mutable vs Immutable"
      ]
    },
    {
      "cell_type": "code",
      "metadata": {
        "scrolled": true,
        "id": "AX_DTWnT_nT0",
        "colab_type": "code",
        "colab": {},
        "tags": []
      },
      "source": [
        "nus = [1,2,3,4,5,6,7,8]\n",
        "print(nus[3])                   # indexing: 0 is first entry\n",
        "nus[3] = 'Four'\n",
        "print(nus)"
      ],
      "execution_count": 23,
      "outputs": [
        {
          "output_type": "stream",
          "name": "stdout",
          "text": "4\n[1, 2, 3, 'Four', 5, 6, 7, 8]\n"
        }
      ]
    },
    {
      "cell_type": "code",
      "metadata": {
        "id": "I1qXgBrV_nT6",
        "colab_type": "code",
        "colab": {},
        "tags": []
      },
      "source": [
        "smiles = \"C(=N)(N)N.C(=O)(O)O\"\n",
        "print(smiles[3])\n"
      ],
      "execution_count": 24,
      "outputs": [
        {
          "output_type": "stream",
          "name": "stdout",
          "text": "N\n"
        }
      ]
    },
    {
      "cell_type": "code",
      "metadata": {
        "id": "duHOEgV9Ugbc",
        "colab_type": "code",
        "colab": {}
      },
      "source": [
        "smiles[3] = '4'"
      ],
      "execution_count": 25,
      "outputs": [
        {
          "output_type": "error",
          "ename": "TypeError",
          "evalue": "'str' object does not support item assignment",
          "traceback": [
            "\u001b[1;31m---------------------------------------------------------------------------\u001b[0m",
            "\u001b[1;31mTypeError\u001b[0m                                 Traceback (most recent call last)",
            "\u001b[1;32m<ipython-input-25-0dcd01034e2f>\u001b[0m in \u001b[0;36m<module>\u001b[1;34m\u001b[0m\n\u001b[1;32m----> 1\u001b[1;33m \u001b[0msmiles\u001b[0m\u001b[1;33m[\u001b[0m\u001b[1;36m3\u001b[0m\u001b[1;33m]\u001b[0m \u001b[1;33m=\u001b[0m \u001b[1;34m'4'\u001b[0m\u001b[1;33m\u001b[0m\u001b[1;33m\u001b[0m\u001b[0m\n\u001b[0m",
            "\u001b[1;31mTypeError\u001b[0m: 'str' object does not support item assignment"
          ]
        }
      ]
    },
    {
      "cell_type": "markdown",
      "metadata": {
        "id": "e9ZVDIwLUNMi",
        "colab_type": "text"
      },
      "source": [
        "What happened here?\n",
        "Look at the error! 'str' object does not support item assignment\n",
        "This means we cannot chnage the third position in this string and exchange the letter N with the number 4."
      ]
    },
    {
      "cell_type": "code",
      "metadata": {
        "id": "oZiikglA_nT-",
        "colab_type": "code",
        "colab": {},
        "tags": []
      },
      "source": [
        "i = 3\n",
        "i = 4\n",
        "print(i)\n",
        "str = 'Hello'\n",
        "str += ' World'\n",
        "print(str)"
      ],
      "execution_count": 26,
      "outputs": [
        {
          "output_type": "stream",
          "name": "stdout",
          "text": "4\nHello World\n"
        }
      ]
    },
    {
      "cell_type": "markdown",
      "metadata": {
        "id": "BIu6G_Es_nUC",
        "colab_type": "text"
      },
      "source": [
        "So:\n",
        "- You can change the list entry (mutable), but not the string entry (immutable)\n",
        "- You can't really change the integer/string (immutable), so Python instead makes a new integer/string\n",
        "\n",
        "... it is now time for an exercise"
      ]
    },
    {
      "cell_type": "markdown",
      "metadata": {
        "id": "u-5NFfgY_nUE",
        "colab_type": "text"
      },
      "source": [
        "## Exercise: \n",
        "Make variables containing your name, height, family members and their ages.\n",
        "Consider choice of data types.\n",
        "Display the variables and their types.\n",
        "Change their values (mutable?).\n",
        "Add a new family member."
      ]
    },
    {
      "cell_type": "code",
      "metadata": {
        "id": "zQbg0zlY_nUG",
        "colab_type": "code",
        "colab": {}
      },
      "source": [
        "# Assign two variables, e.g. myname and myheight, with your name and your height\n"
      ],
      "execution_count": 0,
      "outputs": []
    },
    {
      "cell_type": "markdown",
      "metadata": {
        "id": "9nr94yN8_nUL",
        "colab_type": "text"
      },
      "source": [
        "What are natural data types for these? Names are naturally strings, while measurements are most often numbers. Multiple things can easily be established as lists."
      ]
    },
    {
      "cell_type": "code",
      "metadata": {
        "id": "Q2gMKlCp_nUM",
        "colab_type": "code",
        "colab": {}
      },
      "source": [
        "# How do you inspect the data types that you created?\n"
      ],
      "execution_count": 0,
      "outputs": []
    },
    {
      "cell_type": "code",
      "metadata": {
        "id": "nF1PWChu_nUZ",
        "colab_type": "code",
        "colab": {}
      },
      "source": [
        "# Each family member should have name and age. What is a good container for a fixed number of variables?\n",
        "\n",
        "# The container for you entire family shold be able to change size. What is suitable for that?\n",
        "\n",
        "# How do you add a member to the family container?\n",
        "\n",
        "# What happens when you run this cell multiple times?"
      ],
      "execution_count": 0,
      "outputs": []
    },
    {
      "cell_type": "markdown",
      "metadata": {
        "id": "FeQa8uBbx9nw",
        "colab_type": "text"
      },
      "source": [
        "## Numpy\n",
        "We have by now seen different datatypes. One of the most commonly encountered datatype is the numerical array. \n",
        "Python has a specialised library with some powerful indexing and advanced methods called numPy. We delve into some basics here."
      ]
    },
    {
      "cell_type": "code",
      "metadata": {
        "id": "2X1F03QKyOmY",
        "colab_type": "code",
        "colab": {}
      },
      "source": [
        "# Numpy is not a built-in package; it has to be loaded\n",
        "import numpy as np \n",
        "# This is a standard way of importing packages\n",
        "# And you can import a package using another identifier, \n",
        "# here numpy is being loaded as np. \n",
        "\n",
        "# Once you have numpy loaded, a tab after np. should show\n",
        "# tons of powerful functions that are now at your finger tips\n",
        "\n",
        "# Don't be shy! Read the docs. Invoke any intriguing function\n",
        "# with its help(np.any_function_you_wish)\n",
        "# Ex: help(np.random)"
      ],
      "execution_count": 29,
      "outputs": []
    },
    {
      "cell_type": "code",
      "metadata": {
        "id": "Z2W5JvNhyOvo",
        "colab_type": "code",
        "colab": {}
      },
      "source": [
        "import numpy as np\n",
        "m = np.random.randint(0,10,(3,4))"
      ],
      "execution_count": 27,
      "outputs": []
    },
    {
      "cell_type": "code",
      "metadata": {
        "id": "2IJGY7FtynWh",
        "colab_type": "code",
        "colab": {}
      },
      "source": [
        "# A numerical list has to be cast explicitly as a numpy array\n",
        "\n",
        "# Our good old numerical list\n",
        "nus = [1,2,3,4,5,6,7,8]\n",
        "\n",
        "# Check what is its type\n",
        "print(type(nus))\n",
        "\n",
        "# Now let us cast it as a numpy array\n",
        "# Use dir or tab after nus to see what methods and functions are available\n",
        "nus"
      ],
      "execution_count": 0,
      "outputs": []
    },
    {
      "cell_type": "code",
      "metadata": {
        "id": "Ey4VNFOxypqq",
        "colab_type": "code",
        "colab": {}
      },
      "source": [
        "# Create a 4x4 array of zeros\n",
        "z = np.zeros([4, 4])\n",
        "print(z)\n",
        "\n",
        "# Create a 4x4 array of ones\n",
        "o = np.ones([4,4])\n",
        "print(o)\n",
        "\n",
        "# Create a 4x4 diagonal matrix with 1 as diagonal entries\n",
        "d = np.diag([1,1,1,1])\n",
        "print(d)"
      ],
      "execution_count": 0,
      "outputs": []
    },
    {
      "cell_type": "code",
      "metadata": {
        "id": "iEXKZPwjxfBv",
        "colab_type": "code",
        "colab": {}
      },
      "source": [
        "# More numpy-ing\n",
        "\n",
        "# Create a random integer matrix, with entries between 0-9,\n",
        "# of size 4x4 \n",
        "m = np.random.randint(10,size=(4, 4))\n",
        "\n",
        "# Print the matrix\n",
        "print(m)\n",
        "\n",
        "# Print only the first column\n",
        "print(m[:,0])\n",
        "\n",
        "# Print the last row\n",
        "print(m[-1,:])\n",
        "\n"
      ],
      "execution_count": 0,
      "outputs": []
    },
    {
      "cell_type": "code",
      "metadata": {
        "id": "9emBX7wCxfBz",
        "colab_type": "code",
        "colab": {}
      },
      "source": [
        "# Make transpose of the matrix\n",
        "print(m)\n",
        "m.T\n",
        "print(m)"
      ],
      "execution_count": 0,
      "outputs": []
    },
    {
      "cell_type": "markdown",
      "metadata": {
        "id": "Hr1s9zGdRfWh",
        "colab_type": "text"
      },
      "source": [
        "What happened here? The matrix wasn't transposed? Let's look at this."
      ]
    },
    {
      "cell_type": "code",
      "metadata": {
        "id": "a0j1cA8jRmzD",
        "colab_type": "code",
        "colab": {}
      },
      "source": [
        "help(m.T)"
      ],
      "execution_count": 0,
      "outputs": []
    },
    {
      "cell_type": "code",
      "metadata": {
        "id": "uuM4xyo2Rm6M",
        "colab_type": "code",
        "colab": {}
      },
      "source": [
        "# Compute the mean value\n",
        "print(m.mean())\n",
        "\n",
        "# Compute row-wise mean\n",
        "print(m.mean(axis=0))\n",
        "\n",
        "# Compute column-wise mean\n",
        "print(m.mean(axis=1))"
      ],
      "execution_count": 0,
      "outputs": []
    },
    {
      "cell_type": "markdown",
      "metadata": {
        "id": "OKzwgLBISG0A",
        "colab_type": "text"
      },
      "source": [
        "## Exercise:\n",
        "Let's try and play around further with numpy. Use the help() function if you are in doubt."
      ]
    },
    {
      "cell_type": "code",
      "metadata": {
        "id": "vJBk3TSgSJcz",
        "colab_type": "code",
        "colab": {},
        "tags": []
      },
      "source": [
        "# Create another matrix of dimensions 4x4\n",
        "n = np.random.randint(10, size=(16)).reshape((4,4))\n",
        "m = np.random.randint(10, size=(16)).reshape((4,4))\n",
        "\n",
        "# Compute the element-wise product of the two matrices\n",
        "hadamard = np.multiply(m, n)\n",
        "\n",
        "# Compute the matrix product of the two matrices\n",
        "prod = np.matmul(m, n)\n",
        "\n",
        "print(hadamard)\n",
        "print(prod)\n"
      ],
      "execution_count": 39,
      "outputs": [
        {
          "output_type": "stream",
          "name": "stdout",
          "text": "[[ 8 56  2  9]\n [21 12  7  0]\n [ 0 30 48  8]\n [20  0  0 18]]\n[[ 62  43  61  36]\n [ 40  42  42  36]\n [107 115  99 112]\n [ 81  83  91  70]]\n"
        }
      ]
    },
    {
      "cell_type": "code",
      "metadata": {
        "id": "Pwwa7tLUSK1U",
        "colab_type": "code",
        "colab": {},
        "tags": []
      },
      "source": [
        "# Create a new random matrix of size 1x12\n",
        "a = np.random.randint(10, size=(12)).reshape((1,12))\n",
        "print(a)\n",
        "\n",
        "# Reshape it into a 2D array of size 3x4 \n",
        "a = a.reshape((3,4))\n",
        "print(a)\n",
        "\n",
        "# Reshape it into a 3d array of size 2x2x3\n",
        "a = a.reshape((2,2,3))\n",
        "print(a)"
      ],
      "execution_count": 50,
      "outputs": [
        {
          "output_type": "stream",
          "name": "stdout",
          "text": "[[1 4 4 2 8 8 9 0 4 8 7 2]]\n[[1 4 4 2]\n [8 8 9 0]\n [4 8 7 2]]\n[[[1 4 4]\n  [2 8 8]]\n\n [[9 0 4]\n  [8 7 2]]]\n"
        }
      ]
    },
    {
      "cell_type": "code",
      "execution_count": null,
      "metadata": {},
      "outputs": [],
      "source": []
    }
  ]
}