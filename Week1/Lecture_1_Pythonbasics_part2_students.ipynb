{
  "nbformat": 4,
  "nbformat_minor": 0,
  "metadata": {
    "colab": {
      "name": "Lecture_1_Pythonbasics_part2_students.ipynb",
      "version": "0.3.2",
      "provenance": [],
      "collapsed_sections": []
    },
    "kernelspec": {
      "name": "python3",
      "display_name": "Python 3"
    }
  },
  "cells": [
    {
      "cell_type": "markdown",
      "metadata": {
        "id": "_6pDR1rPJXPQ",
        "colab_type": "text"
      },
      "source": [
        "# Visualization of 2D and 3D images"
      ]
    },
    {
      "cell_type": "code",
      "metadata": {
        "id": "SxK-8JdiJRR9",
        "colab_type": "code",
        "colab": {}
      },
      "source": [
        "import os\n",
        "from google.colab import drive\n",
        "\n",
        "drive.mount('/content/gdrive', force_remount=True)\n",
        "root_path = 'gdrive/My Drive/WorkStuff/MIA2019'  #change dir to your project folder\n",
        "os.chdir(root_path)\n",
        "os.getcwd()"
      ],
      "execution_count": 0,
      "outputs": []
    },
    {
      "cell_type": "code",
      "metadata": {
        "id": "1pfGy91bhPYR",
        "colab_type": "code",
        "colab": {}
      },
      "source": [
        "import numpy as np"
      ],
      "execution_count": 0,
      "outputs": []
    },
    {
      "cell_type": "markdown",
      "metadata": {
        "id": "0VJmXf-ogq9H",
        "colab_type": "text"
      },
      "source": [
        "## Matplotlib\n",
        "\n",
        "A versatile plotting package. We will do a quick tour. Let's start with 1D plotting."
      ]
    },
    {
      "cell_type": "code",
      "metadata": {
        "id": "Yt2CMYkYgsGV",
        "colab_type": "code",
        "colab": {}
      },
      "source": [
        "import matplotlib.pyplot as plt\n",
        "\n",
        "# Create a 1D array with numpy\n",
        "x = np.array([1,3,5,9])\n",
        "\n",
        "# Use an apt function from plt to plot\n",
        "plt.plot(x,'r')\n",
        "plt.show()\n",
        "\n"
      ],
      "execution_count": 0,
      "outputs": []
    },
    {
      "cell_type": "markdown",
      "metadata": {
        "id": "9mn6Zg-0hmNC",
        "colab_type": "text"
      },
      "source": [
        "Now on to 2D plotting. First with an array."
      ]
    },
    {
      "cell_type": "code",
      "metadata": {
        "id": "rTvhQu9whYqs",
        "colab_type": "code",
        "colab": {}
      },
      "source": [
        "y = np.array([4,7,19,59])\n",
        "\n",
        "# Continous or Discrete plot\n",
        "pr, = plt.plot(x,y,'r+--')\n",
        "pg, = plt.plot(y,x,'g*')\n",
        "pb, = plt.plot(x,x*x,'b^')\n",
        "\n",
        "# Add labels\n",
        "\n",
        "# Add legends\n",
        "plt.legend([pr,pg,pb],('Red','Green','Blue'))\n",
        "\n",
        "plt.show()"
      ],
      "execution_count": 0,
      "outputs": []
    },
    {
      "cell_type": "markdown",
      "metadata": {
        "id": "1V7IsfQIh9Ch",
        "colab_type": "text"
      },
      "source": [
        "And we can also save the plot."
      ]
    },
    {
      "cell_type": "code",
      "metadata": {
        "id": "9y-qAofJhvPG",
        "colab_type": "code",
        "colab": {}
      },
      "source": [
        "# Save plot\n",
        "plt.savefig('example-plot.png')"
      ],
      "execution_count": 0,
      "outputs": []
    },
    {
      "cell_type": "markdown",
      "metadata": {
        "id": "zoI4ka5HiMr8",
        "colab_type": "text"
      },
      "source": [
        "## Exercise: \n",
        "Matplotlib also has functionality for handling images. Try and figure out how to load the image 'python.png' and display it. Also go and explore different color maps."
      ]
    },
    {
      "cell_type": "code",
      "metadata": {
        "id": "SXDu_7jXiTMB",
        "colab_type": "code",
        "colab": {}
      },
      "source": [
        "# Load the mpl image library\n",
        "from matplotlib import image as mpimg\n",
        "\n",
        "# Read image\n",
        "\n",
        "\n",
        "# Show image\n"
      ],
      "execution_count": 0,
      "outputs": []
    },
    {
      "cell_type": "code",
      "metadata": {
        "id": "UC9bQ6JP7g0o",
        "colab_type": "code",
        "colab": {}
      },
      "source": [
        "# Show image with a different color map\n"
      ],
      "execution_count": 0,
      "outputs": []
    },
    {
      "cell_type": "markdown",
      "metadata": {
        "id": "-4R09ubVkXE5",
        "colab_type": "text"
      },
      "source": [
        "## ImageIO\n",
        "For more functionalities regarding reading and writing of especially medical images it is of interest to use the package ImageIO"
      ]
    },
    {
      "cell_type": "code",
      "metadata": {
        "id": "nr2o60UxkWds",
        "colab_type": "code",
        "colab": {}
      },
      "source": [
        "# Import ImageIO \n",
        "import imageio "
      ],
      "execution_count": 0,
      "outputs": []
    },
    {
      "cell_type": "code",
      "metadata": {
        "id": "5qCK4bbukjUc",
        "colab_type": "code",
        "colab": {}
      },
      "source": [
        "# Read as image\n",
        "im = imageio.imread('./Data/IM-0001-0134.dcm', 'DICOM')\n"
      ],
      "execution_count": 0,
      "outputs": []
    },
    {
      "cell_type": "markdown",
      "metadata": {
        "id": "6plXxUqVmpOI",
        "colab_type": "text"
      },
      "source": [
        "Draw the image with plt.imshow(), selecting the \"gray\" colormap. Call plt.show() to render the image."
      ]
    },
    {
      "cell_type": "code",
      "metadata": {
        "id": "CR8Q2U4OkjXX",
        "colab_type": "code",
        "colab": {}
      },
      "source": [
        "# Draw the image in grayscale\n",
        "plt.imshow(im, cmap=\"gray\")\n",
        "\n",
        "# Render the image\n",
        "plt.show()\n"
      ],
      "execution_count": 0,
      "outputs": []
    },
    {
      "cell_type": "markdown",
      "metadata": {
        "id": "mIFLuQe2mw3L",
        "colab_type": "text"
      },
      "source": [
        "Draw the image again in grayscale. Also, set vmin=50 and vmax=200 to increase the contrast (i.e., the distance between the brightest and darkest colors is smaller than before)."
      ]
    },
    {
      "cell_type": "code",
      "metadata": {
        "id": "BKBrni9rkjaD",
        "colab_type": "code",
        "colab": {}
      },
      "source": [
        "# Draw the image with greater contrast\n",
        "plt.imshow(im,cmap=\"gray\",vmin=50,vmax=200)\n",
        "\n",
        "# Render the image\n",
        "plt.show()"
      ],
      "execution_count": 0,
      "outputs": []
    },
    {
      "cell_type": "markdown",
      "metadata": {
        "id": "q00jfpOxmzwY",
        "colab_type": "text"
      },
      "source": [
        "\n",
        "Turn axis ticks and labels off."
      ]
    },
    {
      "cell_type": "code",
      "metadata": {
        "id": "fFtKiRxqm1X3",
        "colab_type": "code",
        "colab": {}
      },
      "source": [
        "plt.imshow(im,cmap=\"gray\")\n",
        "\n",
        "# Remove axis ticks and labels\n",
        "plt.axis(\"off\")\n",
        "\n",
        "# Render the image\n",
        "plt.show()"
      ],
      "execution_count": 0,
      "outputs": []
    },
    {
      "cell_type": "markdown",
      "metadata": {
        "id": "hFVmh4Mbn9oH",
        "colab_type": "text"
      },
      "source": [
        "# N-dimensional images\n",
        "\n",
        "How could multi-dimensional images look like? E.g.\n",
        "\n",
        "* im[row,col] -> gray 2D image\n",
        "* vol[pln, row, col] -> gray 3D image\n",
        "* im[row,col,ch] -> color images\n",
        "* im_ts[time, row, col, ch] -> video\n",
        "\n",
        "\n",
        "We can use imageio.volread() to read multi-dimensional data directly.\n"
      ]
    },
    {
      "cell_type": "code",
      "metadata": {
        "id": "wSaxf0JFojit",
        "colab_type": "code",
        "colab": {}
      },
      "source": [
        "vol = imageio.volread('./Data/FullVol','DICOM')"
      ],
      "execution_count": 0,
      "outputs": []
    },
    {
      "cell_type": "code",
      "metadata": {
        "id": "bzmjvE_tvda1",
        "colab_type": "code",
        "colab": {}
      },
      "source": [
        "print('Available metadata:', vol.meta.keys())\n",
        "print('Shape of image array:', vol.shape)"
      ],
      "execution_count": 0,
      "outputs": []
    },
    {
      "cell_type": "markdown",
      "metadata": {
        "id": "F_aZcwxCvr7Y",
        "colab_type": "text"
      },
      "source": [
        "## Generate subplots\n",
        "\n",
        "You can draw multiple images in one figure to explore data quickly. Use plt.subplots() to generate an array of subplots.\n",
        "\n"
      ]
    },
    {
      "cell_type": "code",
      "metadata": {
        "id": "7Q9mvIQiwU08",
        "colab_type": "code",
        "colab": {}
      },
      "source": [
        "fig, axes = plt.subplots(nrows=2, ncols=2)\n"
      ],
      "execution_count": 0,
      "outputs": []
    },
    {
      "cell_type": "markdown",
      "metadata": {
        "id": "hbmb7WmqwZK5",
        "colab_type": "text"
      },
      "source": [
        "To draw an image on a subplot, call the plotting method directly from the subplot object rather than through PyPlot: axes[0,0].imshow(im) rather than plt.imshow(im)."
      ]
    },
    {
      "cell_type": "markdown",
      "metadata": {
        "id": "kAldmK1fwFOx",
        "colab_type": "text"
      },
      "source": [
        "## Slice 3D images\n",
        "\n",
        "The simplest way to plot 3D and 4D images by slicing them into many 2D frames. Plotting many slices sequentially can create a \"fly-through\" effect that helps you understand the image as a whole.\n",
        "\n",
        "To select a 2D frame, pick a frame for the first axis and select all data from the remaining two: vol[0, :, :]"
      ]
    },
    {
      "cell_type": "code",
      "metadata": {
        "id": "fv0JexQWvs5h",
        "colab_type": "code",
        "colab": {}
      },
      "source": [
        "# Initialize figure and axes grid\n",
        "fig, axes = plt.subplots(nrows=1, ncols=3)\n",
        "\n",
        "# Draw an image on each subplot\n",
        "axes[0].imshow(vol[100],cmap='gray')\n",
        "axes[1].imshow(vol[125],cmap='gray') \n",
        "axes[2].imshow(vol[150],cmap='gray')\n",
        "\n",
        "# Remove ticks/labels and render\n",
        "for ax in axes: ax.axis('off')\n",
        "plt.show()\n"
      ],
      "execution_count": 0,
      "outputs": []
    },
    {
      "cell_type": "markdown",
      "metadata": {
        "id": "TuZDVo7dw6Th",
        "colab_type": "text"
      },
      "source": [
        "## Exercise:\n",
        "\n",
        "Use a for loop to plot every 60th slice of vol on a separate subplot. \n",
        "Using plt.subplots(), initialize a subplots grid with 1 row and 4 columns.\n",
        "Plot every 60th slice of vol in grayscale. To get the appropriate index, multiply ii by 60.\n",
        "Turn off the ticks, labels, and frame for each subplot.\n",
        "Render the figure."
      ]
    },
    {
      "cell_type": "code",
      "metadata": {
        "id": "aVrHIE4KxJI0",
        "colab_type": "code",
        "colab": {}
      },
      "source": [
        "# Plot the images on a subplots array\n",
        "\n",
        "\n",
        "# Loop through subplots and draw image\n",
        "\n",
        "    \n",
        "# Render the figure\n"
      ],
      "execution_count": 0,
      "outputs": []
    },
    {
      "cell_type": "markdown",
      "metadata": {
        "id": "jG9TlpMKxeMP",
        "colab_type": "text"
      },
      "source": [
        "## Plot other views\n",
        "\n",
        "Any two dimensions of an array can form an image, and slicing along different axes can provide a useful perspective. However, unequal sampling rates can create distorted images.\n",
        "\n",
        "Changing the aspect ratio can address this by increasing the width of one of the dimensions."
      ]
    },
    {
      "cell_type": "markdown",
      "metadata": {
        "id": "S9QFKINwxx2N",
        "colab_type": "text"
      },
      "source": [
        "## Exercise:\n",
        "\n",
        "Plot images that slice along the second and third dimensions of vol. \n",
        "Slice a 2D plane from vol where \"axis 1\" is 125.\n",
        "Slice a 2D plane from vol where \"axis 2\" is 125.\n",
        "\n",
        "Note, this can distort the aspect ratio if the image wasn't uniformly sampled! You cna check the sampling rate in the meta information using vol.meta['sampling']\n"
      ]
    },
    {
      "cell_type": "code",
      "metadata": {
        "id": "J4gbcgEAx5mU",
        "colab_type": "code",
        "colab": {}
      },
      "source": [
        "# Select frame from \"vol\"\n",
        "\n",
        "\n",
        "# Examine sampling rates \n",
        "\n",
        "\n",
        "\n",
        "# Plot the images on a subplots array\n"
      ],
      "execution_count": 0,
      "outputs": []
    },
    {
      "cell_type": "markdown",
      "metadata": {
        "id": "tyb17-90uCKE",
        "colab_type": "text"
      },
      "source": [
        "## Other types of medical images \n",
        "You will be able to read most medical images with ImageIO, but it doesn't support all image formats. Hence I will also need to introduce another package...\n",
        "\n",
        "## Nibabel\n",
        "Read / write access to some common neuroimaging file formats. Let's try and read the nifti file version of the same image."
      ]
    },
    {
      "cell_type": "code",
      "metadata": {
        "id": "d9RYAaSXpvRv",
        "colab_type": "code",
        "colab": {}
      },
      "source": [
        "import nibabel as nib\n",
        "vol2 = nib.load('./Data/sub3.nii.gz') \n"
      ],
      "execution_count": 0,
      "outputs": []
    },
    {
      "cell_type": "markdown",
      "metadata": {
        "id": "AYN6GflIzCkb",
        "colab_type": "text"
      },
      "source": [
        "Again we can examine some information about the image"
      ]
    },
    {
      "cell_type": "code",
      "metadata": {
        "id": "D0L4Q_8Tp0mr",
        "colab_type": "code",
        "colab": {}
      },
      "source": [
        "vol2.shape"
      ],
      "execution_count": 0,
      "outputs": []
    },
    {
      "cell_type": "code",
      "metadata": {
        "id": "rC6W_n9Up0tu",
        "colab_type": "code",
        "colab": {}
      },
      "source": [
        "hdr = vol2.header\n",
        "print(hdr)"
      ],
      "execution_count": 0,
      "outputs": []
    },
    {
      "cell_type": "code",
      "metadata": {
        "id": "d4I5BkKwp8fU",
        "colab_type": "code",
        "colab": {}
      },
      "source": [
        "# Select frame from \"vol\"\n",
        "vol2data = vol2.get_fdata()\n",
        "im1 = vol2data[:, 125, :]\n",
        "im2 = vol2data[:,:,125]\n",
        "\n",
        "# Examine sampling rates \n",
        "print(vol.meta['sampling'])\n",
        "\n",
        "\n",
        "# Plot the images on a subplots array\n",
        "fig, axes = plt.subplots(nrows=2, ncols=1)\n",
        "axes[0].imshow(im1, cmap='gray')\n",
        "axes[1].imshow(im2, cmap='gray')\n",
        "axes[0].axis(\"off\")\n",
        "axes[1].axis(\"off\")\n",
        "plt.show()"
      ],
      "execution_count": 0,
      "outputs": []
    },
    {
      "cell_type": "markdown",
      "metadata": {
        "id": "UtiHMY-u0eql",
        "colab_type": "text"
      },
      "source": [
        "## Exercise:\n",
        "Why does this look different than our previous plotting of the image?\n"
      ]
    },
    {
      "cell_type": "markdown",
      "metadata": {
        "id": "VkoQUMpT0IL2",
        "colab_type": "text"
      },
      "source": [
        "If necessary have a look at : https://nipy.org/nibabel/"
      ]
    }
  ]
}